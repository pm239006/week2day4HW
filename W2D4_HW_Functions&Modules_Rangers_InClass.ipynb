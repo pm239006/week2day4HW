{
 "cells": [
  {
   "cell_type": "markdown",
   "metadata": {},
   "source": [
    "# User-Defined Functions & Scoping"
   ]
  },
  {
   "cell_type": "markdown",
   "metadata": {},
   "source": [
    "## Tasks Today:\n",
    "\n",
    "\n",
    "1) Functions <br>\n",
    " &nbsp;&nbsp;&nbsp;&nbsp; a) User-Defined vs. Built-In Functions <br>\n",
    " &nbsp;&nbsp;&nbsp;&nbsp; b) Accepting Parameters <br>\n",
    " &nbsp;&nbsp;&nbsp;&nbsp; c) Default Parameters <br>\n",
    " &nbsp;&nbsp;&nbsp;&nbsp; d) Making an Argument Optional <br>\n",
    " &nbsp;&nbsp;&nbsp;&nbsp; e) Keyword Arguments <br>\n",
    " &nbsp;&nbsp;&nbsp;&nbsp; f) Returning Values <br>\n",
    " &nbsp;&nbsp;&nbsp;&nbsp; g) *args <br>\n",
    " &nbsp;&nbsp;&nbsp;&nbsp; h) Docstring <br>\n",
    " &nbsp;&nbsp;&nbsp;&nbsp; i) Using a User Function in a Loop <br>\n",
    "2) Scope\n",
    "3) Creating more User-Defined functions \n",
    "4) Modules <br>\n",
    " &nbsp;&nbsp;&nbsp;&nbsp; a) Importing Entire Modules <br>\n",
    " &nbsp;&nbsp;&nbsp;&nbsp; b) Importing Methods Only <br>\n",
    " &nbsp;&nbsp;&nbsp;&nbsp; c) Using the 'as' Keyword <br>\n",
    " &nbsp;&nbsp;&nbsp;&nbsp; d) Creating a Module <br>"
   ]
  },
  {
   "cell_type": "markdown",
   "metadata": {},
   "source": [
    "\n",
    "## Functions"
   ]
  },
  {
   "cell_type": "markdown",
   "metadata": {},
   "source": [
    "##### User-Defined vs. Built-In Functions"
   ]
  },
  {
   "cell_type": "code",
   "execution_count": 21,
   "metadata": {},
   "outputs": [
    {
     "name": "stdout",
     "output_type": "stream",
     "text": [
      "Hello\n",
      "<function say_hello at 0x108160400>\n"
     ]
    },
    {
     "data": {
      "text/plain": [
       "<function __main__.say_hello_again()>"
      ]
     },
     "execution_count": 21,
     "metadata": {},
     "output_type": "execute_result"
    }
   ],
   "source": [
    "# built in functions\n",
    "\n",
    "# syntax function_name\n",
    "\n",
    "#print()\n",
    "#max()\n",
    "#min()\n",
    "#len()\n",
    "#sum()\n",
    "\n",
    "#user defined functions\n",
    "\n",
    "def say_hello():\n",
    "    print(\"Hello\")\n",
    "\n",
    "\n",
    "#calling upon our function\n",
    "\n",
    "say_hello() #when calling a function you always need those parenthesis\n",
    "\n",
    "print(say_hello)\n",
    "\n",
    "def say_hello_again():\n",
    "    hello = say_hello()\n",
    "    return hello\n",
    "\n",
    "\n",
    "say_hello_again\n",
    "\n",
    "\n",
    "\n"
   ]
  },
  {
   "cell_type": "markdown",
   "metadata": {},
   "source": [
    "##### Accepting Parameters"
   ]
  },
  {
   "cell_type": "code",
   "execution_count": 22,
   "metadata": {
    "scrolled": true
   },
   "outputs": [],
   "source": [
    "# elements passed into a function\n",
    "# variables to hold the place of items our function will act upon\n",
    "# order matters\n",
    "# a parameter can be of any object type (data type)\n",
    "# can be any object type \n",
    "\n",
    "def return_something(something):\n",
    "    return something\n",
    "\n",
    "\n",
    "\n",
    "\n",
    "\n",
    "\n",
    "\n",
    "\n",
    "\n",
    "\n"
   ]
  },
  {
   "cell_type": "markdown",
   "metadata": {},
   "source": [
    "##### Default Parameters"
   ]
  },
  {
   "cell_type": "code",
   "execution_count": 23,
   "metadata": {},
   "outputs": [
    {
     "name": "stdout",
     "output_type": "stream",
     "text": [
      "The name is James.....James Swiggum\n"
     ]
    }
   ],
   "source": [
    "# default parameters must always come after non-default parameters at all times forever and ever...or else\n",
    "\n",
    "# what denotes a default or opt parameter is the = \n",
    "\n",
    "def agent_name(first_name,last_name = 'Bond'):\n",
    "    return f\"The name is {first_name}.....{first_name} {last_name}\"\n",
    "print(agent_name('James', 'Swiggum'))\n"
   ]
  },
  {
   "cell_type": "code",
   "execution_count": 24,
   "metadata": {},
   "outputs": [
    {
     "name": "stdout",
     "output_type": "stream",
     "text": [
      "The name is Devante.....Devante Rose\n",
      "Brendan your birthday is 25, September 1996\n"
     ]
    }
   ],
   "source": [
    "# default parameters must always come after non-default parameters at all times forever and ever...or else\n",
    "print(agent_name(last_name = 'Rose' , first_name = 'Devante'))\n",
    "\n",
    "def birthday_month(name,day, month, year = 2023):\n",
    "    return f\"{name} your birthday is {day}, {month} {year}\" \n",
    "print(birthday_month('Brendan' , 25 , 'September' ,'1996'))"
   ]
  },
  {
   "cell_type": "markdown",
   "metadata": {},
   "source": [
    "##### Making an Argument Optional"
   ]
  },
  {
   "cell_type": "code",
   "execution_count": 25,
   "metadata": {},
   "outputs": [
    {
     "name": "stdout",
     "output_type": "stream",
     "text": [
      "My horse's name is Mr.  Horsey Ed\n"
     ]
    }
   ],
   "source": [
    "\n",
    "    #positional parameter   #optional   #default\n",
    "def print_horse_name(first, middle = \"\", last =\"Ed\"): \n",
    "  return f\"My horse's name is {first} {middle} {last}\"\n",
    "\n",
    "print(print_horse_name(\"Mr. \" , \"Horsey\"))"
   ]
  },
  {
   "cell_type": "markdown",
   "metadata": {},
   "source": [
    "##### Keyword Arguments"
   ]
  },
  {
   "cell_type": "code",
   "execution_count": 26,
   "metadata": {},
   "outputs": [
    {
     "name": "stdout",
     "output_type": "stream",
     "text": [
      "Nico's super power is luck and their secret identity is being exposed and is Nico Cage\n"
     ]
    }
   ],
   "source": [
    "#keyword arguments must follow positional arugments\n",
    "\n",
    "def print_hero(name, secret_identity, power ='flying'):\n",
    "    return f\"{name}'s super power is {power} and their secret identity is being exposed and is {secret_identity}\"\n",
    "print(print_hero(power = 'luck', name ='Nico', secret_identity = 'Nico Cage' ))\n",
    "\n",
    "\n",
    "\n",
    "\n",
    "# if we dont have the equal sign the computer will replace the values as they are listed \n"
   ]
  },
  {
   "cell_type": "markdown",
   "metadata": {},
   "source": [
    "# Creating a start, stop, step function"
   ]
  },
  {
   "cell_type": "code",
   "execution_count": 27,
   "metadata": {
    "scrolled": true
   },
   "outputs": [
    {
     "name": "stdout",
     "output_type": "stream",
     "text": [
      "0\n",
      "2\n",
      "4\n",
      "6\n",
      "8\n",
      "[0, 2, 4, 6, 8]\n"
     ]
    }
   ],
   "source": [
    "\n",
    "def my_range(stop, start=0, step=1):\n",
    "    my_list = [ ]\n",
    "    for i in range(start, stop, step):\n",
    "        print(i)\n",
    "        my_list.append(i)\n",
    "    return my_list\n",
    "\n",
    "print(my_range(10, step = 2))"
   ]
  },
  {
   "cell_type": "code",
   "execution_count": null,
   "metadata": {},
   "outputs": [],
   "source": []
  },
  {
   "cell_type": "markdown",
   "metadata": {},
   "source": [
    "##### Returning Values"
   ]
  },
  {
   "cell_type": "code",
   "execution_count": 28,
   "metadata": {},
   "outputs": [],
   "source": [
    "poke_list = [ 'Charmander' , 'Ditto' , 'Eevee' , 'Pikachu' , 'Squirtle', 'Bulbasaur' ]\n",
    "\n",
    "def find_bulbasaur(arr):\n",
    "\n",
    "    for value in arr:\n",
    "        if value == \"Bulbasaur\":\n",
    "            return \"Bulba Bulba\"\n",
    "    return \"No Bulbasaur here\""
   ]
  },
  {
   "cell_type": "code",
   "execution_count": 29,
   "metadata": {},
   "outputs": [
    {
     "name": "stdout",
     "output_type": "stream",
     "text": [
      "We found Bulbasaurr!\n"
     ]
    }
   ],
   "source": [
    "\n",
    "def is_bulbasaur(string):\n",
    "    if string == 'Bulba Bulba' :\n",
    "        return \"We found Bulbasaurr!\"\n",
    "    return \" On no looks like we didnt catch him;(\"\n",
    "\n",
    "print(is_bulbasaur(find_bulbasaur(poke_list)))"
   ]
  },
  {
   "cell_type": "markdown",
   "metadata": {},
   "source": [
    "##### *args / **kwargs (keyword arguments)"
   ]
  },
  {
   "cell_type": "code",
   "execution_count": 30,
   "metadata": {},
   "outputs": [],
   "source": [
    "#*args, **kwargs\n",
    "# *args stands for arguments and will allow the function to take in any number of arguments\n",
    "# **kwargs stands for key word arguments and will allow the function to take in any number of keyword arguments\n",
    "# if other parameters are present, args and kwarfs must go last\n",
    "\n",
    "\n"
   ]
  },
  {
   "cell_type": "markdown",
   "metadata": {},
   "source": [
    "##### Docstring"
   ]
  },
  {
   "cell_type": "code",
   "execution_count": 31,
   "metadata": {},
   "outputs": [
    {
     "name": "stdout",
     "output_type": "stream",
     "text": [
      "jeremy\n",
      "Devante\n",
      " Luis\n",
      "Help on function print_names in module __main__:\n",
      "\n",
      "print_names(arr)\n",
      "    print_names(arr)\n",
      "    Function that takes in a list as an argument,\n",
      "    it will print the content of the list seperately \n",
      "    it is expected that the list contains all strings to be passed in\n",
      "\n"
     ]
    }
   ],
   "source": [
    "# docstrings are a really nice way to leave notes about funciontality in your code\n",
    "# provide instructions\n",
    "\n",
    "def print_names(arr):\n",
    "    \"\"\"\n",
    "    print_names(arr)\n",
    "    Function that takes in a list as an argument,\n",
    "    it will print the content of the list seperately \n",
    "    it is expected that the list contains all strings to be passed in\n",
    "\n",
    "    \"\"\"\n",
    "    \n",
    "    for name in arr:\n",
    "        print(name)\n",
    "\n",
    "print_names([\"jeremy\" , 'Devante' , ' Luis' ])\n",
    "\n",
    "help(print_names)\n",
    "\n",
    "\n",
    "\n",
    "#putting comments in multiline comments will someone else to see the comments when they enter Help() \n",
    "\n",
    "\n",
    "    "
   ]
  },
  {
   "cell_type": "markdown",
   "metadata": {},
   "source": [
    "##### Using a User Function in a Loop"
   ]
  },
  {
   "cell_type": "code",
   "execution_count": null,
   "metadata": {},
   "outputs": [],
   "source": []
  },
  {
   "cell_type": "code",
   "execution_count": null,
   "metadata": {
    "scrolled": true
   },
   "outputs": [],
   "source": []
  },
  {
   "cell_type": "code",
   "execution_count": null,
   "metadata": {},
   "outputs": [],
   "source": []
  },
  {
   "cell_type": "markdown",
   "metadata": {},
   "source": [
    "## Function Exercises <br>\n",
    "### Exercise 1\n",
    "<p>Write a function that loops through a list of first_names and a list of last_names, combines the two and return a list of full_names</p>"
   ]
  },
  {
   "cell_type": "code",
   "execution_count": null,
   "metadata": {},
   "outputs": [],
   "source": []
  },
  {
   "cell_type": "code",
   "execution_count": 32,
   "metadata": {},
   "outputs": [
    {
     "name": "stdout",
     "output_type": "stream",
     "text": [
      "<function names_combined at 0x107f48860>\n"
     ]
    }
   ],
   "source": [
    "first_name = ['John', 'Evan', 'Jordan', 'Max',]\n",
    "last_name = ['Smith', 'Smith', 'Williams', 'Bell']\n",
    "\n",
    "# Output: ['John Smith', 'Evan Smith', 'Jordan Williams', 'Max Bell']\n",
    "\n",
    "\n",
    "def names_combined():\n",
    "\n",
    "\n",
    "    for name in first_name:\n",
    "        (f\"{name}+{last_name}\")\n",
    "            \n",
    "print(names_combined)\n",
    "\n",
    "\n",
    "\n",
    "\n",
    "\n",
    "\n",
    "\n",
    "\n",
    "\n",
    "\n",
    "\n",
    "\n",
    "\n",
    "\n",
    "\n",
    "\n",
    "\n",
    "\n",
    "\n",
    "\n",
    "\n",
    "\n",
    "\n",
    "\n"
   ]
  },
  {
   "cell_type": "markdown",
   "metadata": {},
   "source": [
    "### Exercise 2\n",
    "Create a function that alters all values in the given list by subtracting 5 and then doubling them."
   ]
  },
  {
   "cell_type": "code",
   "execution_count": 33,
   "metadata": {},
   "outputs": [],
   "source": [
    "input_list = [5,10,15,20,3]\n",
    "# output = [0,10,20,30,-4]\n",
    "\n",
    "\n",
    "\n",
    "\n",
    "\n",
    "\n",
    "\n",
    "\n",
    "\n",
    "\n",
    "\n",
    "\n",
    "\n",
    "\n",
    "\n",
    "\n",
    "\n",
    "\n",
    "\n",
    "\n",
    "\n",
    "\n",
    "\n",
    "\n"
   ]
  },
  {
   "cell_type": "markdown",
   "metadata": {},
   "source": [
    "### Exercise 3\n",
    "Create a function that takes in a list of strings and filters out the strings that DO NOT contain vowels. "
   ]
  },
  {
   "cell_type": "code",
   "execution_count": 34,
   "metadata": {},
   "outputs": [],
   "source": [
    "string_list = ['Sheldon','Pnny','Leonard','Hwrd','Rj','Amy','Strt']\n",
    "# output = ['Sheldon','Leonard','Amy']\n",
    "\n"
   ]
  },
  {
   "cell_type": "code",
   "execution_count": null,
   "metadata": {},
   "outputs": [],
   "source": []
  },
  {
   "cell_type": "code",
   "execution_count": null,
   "metadata": {},
   "outputs": [],
   "source": []
  },
  {
   "cell_type": "markdown",
   "metadata": {},
   "source": [
    "### Exercise 4\n",
    "Create a function that accepts a list as a parameter and returns a dictionary containing the list items as it's keys, and the number of times they appear in the list as the values"
   ]
  },
  {
   "cell_type": "code",
   "execution_count": 35,
   "metadata": {},
   "outputs": [],
   "source": [
    "example_list = [\"Harry\", 'Hermione','Harry','Ron','Dobby','Draco','Luna','Harry','Hermione','Ron','Ron','Ron']\n",
    "\n",
    "# output = {\n",
    "#     \"Harry\":3,\n",
    "#     \"Hermione\":2,\n",
    "#     \"Ron\":4,\n",
    "#     \"Dobby\":1,\n",
    "#     \"Draco\":1,\n",
    "#     \"Luna\": 1\n",
    "# }\n",
    "\n"
   ]
  },
  {
   "cell_type": "markdown",
   "metadata": {},
   "source": [
    "\n",
    "\n",
    "## Scope <br>\n",
    "<p>Scope refers to the ability to access variables, different types of scope include:<br>a) Global<br>b) Function (local)<br>c) Class (local)</p>"
   ]
  },
  {
   "cell_type": "code",
   "execution_count": 36,
   "metadata": {},
   "outputs": [
    {
     "ename": "NameError",
     "evalue": "name 'num1' is not defined",
     "output_type": "error",
     "traceback": [
      "\u001b[0;31m---------------------------------------------------------------------------\u001b[0m",
      "\u001b[0;31mNameError\u001b[0m                                 Traceback (most recent call last)",
      "Cell \u001b[0;32mIn[36], line 4\u001b[0m\n\u001b[1;32m      1\u001b[0m \u001b[39m# placement of variable declaration matters\u001b[39;00m\n\u001b[0;32m----> 4\u001b[0m \u001b[39mprint\u001b[39m(num1)\n",
      "\u001b[0;31mNameError\u001b[0m: name 'num1' is not defined"
     ]
    }
   ],
   "source": [
    "# placement of variable declaration matters\n",
    "\n",
    "\n",
    "print(num1)"
   ]
  },
  {
   "cell_type": "markdown",
   "metadata": {},
   "source": [
    "## Modules"
   ]
  },
  {
   "cell_type": "markdown",
   "metadata": {},
   "source": [
    "##### Importing Entire Modules\n"
   ]
  },
  {
   "cell_type": "code",
   "execution_count": null,
   "metadata": {},
   "outputs": [],
   "source": [
    "## Modules\n",
    "\n",
    "\n"
   ]
  },
  {
   "cell_type": "markdown",
   "metadata": {},
   "source": [
    "##### Importing Methods Only"
   ]
  },
  {
   "cell_type": "code",
   "execution_count": null,
   "metadata": {},
   "outputs": [],
   "source": [
    "# from xxx import yyy\n",
    "#from math import floor\n"
   ]
  },
  {
   "cell_type": "markdown",
   "metadata": {},
   "source": [
    "##### Using the 'as' Keyword"
   ]
  },
  {
   "cell_type": "code",
   "execution_count": null,
   "metadata": {},
   "outputs": [],
   "source": [
    "# from xxx import yyy as z\n"
   ]
  },
  {
   "cell_type": "markdown",
   "metadata": {},
   "source": [
    "##### Creating a Module"
   ]
  },
  {
   "cell_type": "code",
   "execution_count": null,
   "metadata": {},
   "outputs": [],
   "source": [
    "from module import printName as pn\n",
    "\n"
   ]
  },
  {
   "cell_type": "code",
   "execution_count": null,
   "metadata": {},
   "outputs": [],
   "source": []
  },
  {
   "cell_type": "code",
   "execution_count": null,
   "metadata": {},
   "outputs": [],
   "source": []
  },
  {
   "cell_type": "markdown",
   "metadata": {},
   "source": [
    "# Homework Exercises"
   ]
  },
  {
   "cell_type": "markdown",
   "metadata": {
    "jp-MarkdownHeadingCollapsed": true
   },
   "source": [
    "### 1) Create a Module in VS Code and Import It into jupyter notebook <br>\n",
    "<p><b>Module should have the following capabilities:</b><br><br>\n",
    "1a) Has a function to calculate the square footage of a house <br>\n",
    "    <b>Reminder of Formula: Length X Width == Area</b><br>\n",
    "        <hr>\n",
    "1b) Has a function to calculate the circumference of a circle 2 Pi r <br><br>\n",
    "<b>Program in Jupyter Notebook should take in user input and use imported functions to calculate a circle's circumference or a houses square footage</b>\n",
    "</p>"
   ]
  },
  {
   "cell_type": "code",
   "execution_count": null,
   "metadata": {},
   "outputs": [],
   "source": []
  },
  {
   "cell_type": "markdown",
   "metadata": {},
   "source": [
    "### 2) Build a Shopping Cart Function <br>\n",
    "<p><b>You can use either lists or dictionaries. The program should have the following capabilities:</b><br><br>\n",
    "1) Takes in input <br>\n",
    "2) Stores user input into a dictionary or list <br>\n",
    "3) The User can add or delete items <br>\n",
    "4) The User can see current shopping list <br>\n",
    "5) The program Loops until user 'quits' <br>\n",
    "6) Upon quiting the program, print out all items in the user's list <br>\n",
    "</p>"
   ]
  },
  {
   "cell_type": "code",
   "execution_count": 46,
   "metadata": {},
   "outputs": [
    {
     "name": "stdout",
     "output_type": "stream",
     "text": [
      "------------------------------WELCOME TO PMARKET <3----------------------------------------\n",
      " Please enjoy our fresh fruits and vegetables and coupons on our app!\n"
     ]
    },
    {
     "name": "stdout",
     "output_type": "stream",
     "text": [
      "------------------------------thank you for coming to PMARKET <3, Please come again! ----------------------------------------\n"
     ]
    }
   ],
   "source": [
    "\n",
    "# shop_cart = []\n",
    "\n",
    "\n",
    "print(f\"------------------------------WELCOME TO PMARKET <3----------------------------------------\")\n",
    "print(f\" Please enjoy our fresh fruits and vegetables and coupons on our app!\")\n",
    "\n",
    "shop_cart = []\n",
    "prices = [] \n",
    "total = 0 \n",
    "\n",
    "while True:\n",
    "    food = input(f\"Enter a food to your cart (view to view cart, p to pay, q to quit)\")\n",
    "    price = (float(input(f\"What is the price per unit?: $\")))\n",
    "    shop_cart.append(food)\n",
    "    prices.append(price)\n",
    "    \n",
    "    if food.lower() == \"q\":\n",
    "        break \n",
    "    elif food.lower == \"view\":\n",
    "        print(f\"---------------------------------------------------YOUR CART-----------------------------------------------------------------------\")\n",
    "        print(food)\n",
    "    elif food.lower == \"p\":\n",
    "        print(f\"------------------------------We hope you found everything you have been looking for!----------------------------------------\")\n",
    "        print(f\"Your total is $:{total}\")\n",
    "        pay = input(f\"How would you like to pay for this today? Cash, Debit, Credit?\")\n",
    "        if pay.lower == \"cash\":\n",
    "            cash = input(f\"$:    \")\n",
    "        if pay.lower == \"debit\":\n",
    "            credit = input(f\"$:    \")\n",
    "        if pay.lower == \"credit\":\n",
    "            debit = input(f\"$:    \")\n",
    "            if cash >= {total}:\n",
    "                print(f\"Sorry please try again.\")\n",
    "                pay = input(f\"How would you like to pay for this today? Cash, Debit, Credit?\")\n",
    "            elif credit >= {total}:\n",
    "                    print(f\"Sorry please try again.\")\n",
    "                    pay = input(f\"How would you like to pay for this today? Cash, Debit, Credit?\")\n",
    "            elif debit >= {total}:\n",
    "                print(f\"Sorry please try again.\")\n",
    "                pay = input(f\"How would you like to pay for this today? Cash, Debit, Credit?\")\n",
    "    else: \n",
    "        print(f\"------------------------------thank you for coming to PMARKET <3, Please come again! ----------------------------------------\")\n",
    "for price in prices:\n",
    "    total += price\n",
    "\n",
    "\n",
    "\n",
    "\n",
    "\n",
    "\n",
    "\n",
    "\n",
    "\n",
    "\n",
    "\n"
   ]
  },
  {
   "cell_type": "code",
   "execution_count": null,
   "metadata": {},
   "outputs": [],
   "source": []
  }
 ],
 "metadata": {
  "kernelspec": {
   "display_name": "Python 3 (ipykernel)",
   "language": "python",
   "name": "python3"
  },
  "language_info": {
   "codemirror_mode": {
    "name": "ipython",
    "version": 3
   },
   "file_extension": ".py",
   "mimetype": "text/x-python",
   "name": "python",
   "nbconvert_exporter": "python",
   "pygments_lexer": "ipython3",
   "version": "3.11.4"
  }
 },
 "nbformat": 4,
 "nbformat_minor": 4
}
